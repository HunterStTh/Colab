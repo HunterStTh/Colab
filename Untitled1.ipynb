{
  "nbformat": 4,
  "nbformat_minor": 0,
  "metadata": {
    "colab": {
      "provenance": [],
      "gpuType": "T4",
      "authorship_tag": "ABX9TyMYTo8P/OSUKikRmuNT/CIQ",
      "include_colab_link": true
    },
    "kernelspec": {
      "name": "python3",
      "display_name": "Python 3"
    },
    "language_info": {
      "name": "python"
    },
    "accelerator": "GPU"
  },
  "cells": [
    {
      "cell_type": "markdown",
      "metadata": {
        "id": "view-in-github",
        "colab_type": "text"
      },
      "source": [
        "<a href=\"https://colab.research.google.com/github/HunterStTh/Colab/blob/main/Untitled1.ipynb\" target=\"_parent\"><img src=\"https://colab.research.google.com/assets/colab-badge.svg\" alt=\"Open In Colab\"/></a>"
      ]
    },
    {
      "cell_type": "code",
      "execution_count": null,
      "metadata": {
        "colab": {
          "base_uri": "https://localhost:8080/"
        },
        "id": "ohB1Py6TL_Ee",
        "outputId": "1ce7114a-b37b-4eda-8f91-f3a655fcc43b"
      },
      "outputs": [
        {
          "output_type": "stream",
          "name": "stdout",
          "text": [
            "\n",
            "Замер матрицы размера 300x300 :\n",
            "Py: 2.379 sec\n",
            "NumPy (CPU): 0.002 sec\n",
            "PyTorch (CPU): 0.001 sec\n",
            "PyTorch (GPU): 0.000 sec (7.9Быстрее чем цпу)\n",
            "\n",
            "Замер матрицы размера 500x500 :\n",
            "Py: 17.367 sec\n",
            "NumPy (CPU): 0.005 sec\n",
            "PyTorch (CPU): 0.004 sec\n",
            "PyTorch (GPU): 0.000 sec (20.9Быстрее чем цпу)\n",
            "\n",
            "Замер матрицы размера 700x700 :\n",
            "Py: 53.323 sec\n",
            "NumPy (CPU): 0.014 sec\n",
            "PyTorch (CPU): 0.009 sec\n",
            "PyTorch (GPU): 0.001 sec (28.0Быстрее чем цпу)\n",
            "\n",
            "Замер матрицы размера 1000x1000 :\n",
            "Py: 174.026 sec\n",
            "NumPy (CPU): 0.072 sec\n",
            "PyTorch (CPU): 0.055 sec\n",
            "PyTorch (GPU): 0.001 sec (73.0Быстрее чем цпу)\n",
            "\n",
            "Замер матрицы размера 1500x1500 :\n"
          ]
        }
      ],
      "source": [
        "import torch\n",
        "import numpy as np\n",
        "import time\n",
        "import random\n",
        "\n",
        "def matrix_mult(a, b):\n",
        "    n = len(a)\n",
        "    m = len(a[0])\n",
        "    p = len(b[0])\n",
        "    return [\n",
        "        [\n",
        "            sum(a[i][k] * b[k][j] for k in range(m))\n",
        "            for j in range(p)\n",
        "        ]\n",
        "        for i in range(n)\n",
        "    ]\n",
        "\n",
        "def benchmark(size):\n",
        "    print(f\"\\nЗамер матрицы размера {size}x{size} :\")\n",
        "\n",
        "    # Генерация данных ОДИНАКОВЫХ для всех тестов\n",
        "    a_list = [[random.random() for _ in range(size)] for _ in range(size)]\n",
        "    b_list = [[random.random() for _ in range(size)] for _ in range(size)]\n",
        "\n",
        "    # Конвертация в разные форматы\n",
        "    a_np = np.array(a_list)\n",
        "    b_np = np.array(b_list)\n",
        "\n",
        "    a_cpu = torch.tensor(a_list, dtype=torch.float32)\n",
        "    b_cpu = torch.tensor(b_list, dtype=torch.float32)\n",
        "\n",
        "    # Прогрев GPU (если доступен)\n",
        "    if torch.cuda.is_available():\n",
        "        torch.mm(a_cpu.cuda(), b_cpu.cuda())\n",
        "\n",
        "    # Замеры времени\n",
        "    # Чистый Python\n",
        "    start = time.time()\n",
        "    matrix_mult(a_list, b_list)\n",
        "    py_time = time.time() - start\n",
        "\n",
        "    # NumPy\n",
        "    start = time.time()\n",
        "    np.dot(a_np, b_np)\n",
        "    np_time = time.time() - start\n",
        "\n",
        "    # PyTorch CPU\n",
        "    start = time.time()\n",
        "    torch.mm(a_cpu, b_cpu)\n",
        "    torch_cpu_time = time.time() - start\n",
        "\n",
        "    # PyTorch GPU\n",
        "    if torch.cuda.is_available():\n",
        "        a_gpu = a_cpu.cuda()\n",
        "        b_gpu = b_cpu.cuda()\n",
        "        start = time.time()\n",
        "        torch.mm(a_gpu, b_gpu)\n",
        "        torch.cuda.synchronize()  # Важно для точного замера\n",
        "        torch_gpu_time = time.time() - start\n",
        "    else:\n",
        "        torch_gpu_time = None\n",
        "\n",
        "    # Вывод результатов\n",
        "    print(f\"Py: {py_time:.3f} sec\")\n",
        "    print(f\"NumPy (CPU): {np_time:.3f} sec\")\n",
        "    print(f\"PyTorch (CPU): {torch_cpu_time:.3f} sec\")\n",
        "    print(f\"PyTorch (GPU): {torch_gpu_time:.3f} sec ({np_time/torch_gpu_time:.1f}Быстрее чем цпу)\")\n",
        "\n",
        "benchmark(300)\n",
        "benchmark(500)\n",
        "benchmark(700)\n",
        "benchmark(1000)\n",
        "benchmark(1500)"
      ]
    },
    {
      "cell_type": "code",
      "source": [],
      "metadata": {
        "id": "UGkpwwP4SDfQ"
      },
      "execution_count": null,
      "outputs": []
    }
  ]
}